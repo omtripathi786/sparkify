{
 "cells": [
  {
   "cell_type": "markdown",
   "metadata": {},
   "source": [
    "# Sparkify Project Workspace\n",
    "This workspace contains a tiny subset (128MB) of the full dataset available (12GB). Feel free to use this workspace to build your project, or to explore a smaller subset with Spark before deploying your cluster on the cloud. Instructions for setting up your Spark cluster is included in the last lesson of the Extracurricular Spark Course content.\n",
    "\n",
    "You can follow the steps below to guide your data analysis and model building portion of this project."
   ]
  },
  {
   "cell_type": "code",
   "execution_count": 1,
   "metadata": {},
   "outputs": [],
   "source": [
    "# import libraries\n",
    "\n",
    "from pyspark.sql import SparkSession\n",
    "from pyspark.sql.functions import udf, col, avg, desc,countDistinct, count, when, concat, lit\n",
    "from pyspark.sql.types import IntegerType, DateType\n",
    "\n",
    "import pandas as pd\n",
    "import numpy as np\n",
    "import matplotlib.pyplot as plt\n",
    "import seaborn as sns\n",
    "\n",
    "import datetime\n",
    "\n",
    "import warnings\n",
    "warnings.filterwarnings('ignore')\n",
    "%matplotlib inline\n",
    "\n",
    "\n",
    "from pyspark.ml.feature import CountVectorizer, IDF, Normalizer, PCA, RegexTokenizer, StandardScaler, StopWordsRemover, StringIndexer, VectorAssembler\n",
    "from pyspark.sql import Window\n",
    "from pyspark.ml.feature import OneHotEncoder, StringIndexer\n",
    "from pyspark.ml.regression import LinearRegression\n",
    "from pyspark.ml.tuning import CrossValidator, ParamGridBuilder\n",
    "from pyspark.ml import Pipeline\n",
    "from pyspark.ml.classification import LogisticRegression, RandomForestClassifier\n",
    "from pyspark.ml.evaluation import MulticlassClassificationEvaluator"
   ]
  },
  {
   "cell_type": "code",
   "execution_count": 2,
   "metadata": {},
   "outputs": [],
   "source": [
    "# create a Spark session\n",
    "spark = SparkSession.builder \\\n",
    "    .master(\"local\") \\\n",
    "    .appName(\"Sparkify\") \\\n",
    "    .getOrCreate()"
   ]
  },
  {
   "cell_type": "markdown",
   "metadata": {},
   "source": [
    "# Load and Clean Dataset\n",
    "In this workspace, the mini-dataset file is `mini_sparkify_event_data.json`. Load and clean the dataset, checking for invalid or missing data - for example, records without userids or sessionids. "
   ]
  },
  {
   "cell_type": "code",
   "execution_count": 3,
   "metadata": {},
   "outputs": [
    {
     "data": {
      "text/plain": [
       "Row(artist='Martha Tilston', auth='Logged In', firstName='Colin', gender='M', itemInSession=50, lastName='Freeman', length=277.89016, level='paid', location='Bakersfield, CA', method='PUT', page='NextSong', registration=1538173362000, sessionId=29, song='Rockpools', status=200, ts=1538352117000, userAgent='Mozilla/5.0 (Windows NT 6.1; WOW64; rv:31.0) Gecko/20100101 Firefox/31.0', userId='30')"
      ]
     },
     "execution_count": 3,
     "metadata": {},
     "output_type": "execute_result"
    }
   ],
   "source": [
    "df = spark.read.json(\"mini_sparkify_event_data.json\")\n",
    "df.head()"
   ]
  },
  {
   "cell_type": "code",
   "execution_count": 4,
   "metadata": {},
   "outputs": [
    {
     "name": "stdout",
     "output_type": "stream",
     "text": [
      "root\n",
      " |-- artist: string (nullable = true)\n",
      " |-- auth: string (nullable = true)\n",
      " |-- firstName: string (nullable = true)\n",
      " |-- gender: string (nullable = true)\n",
      " |-- itemInSession: long (nullable = true)\n",
      " |-- lastName: string (nullable = true)\n",
      " |-- length: double (nullable = true)\n",
      " |-- level: string (nullable = true)\n",
      " |-- location: string (nullable = true)\n",
      " |-- method: string (nullable = true)\n",
      " |-- page: string (nullable = true)\n",
      " |-- registration: long (nullable = true)\n",
      " |-- sessionId: long (nullable = true)\n",
      " |-- song: string (nullable = true)\n",
      " |-- status: long (nullable = true)\n",
      " |-- ts: long (nullable = true)\n",
      " |-- userAgent: string (nullable = true)\n",
      " |-- userId: string (nullable = true)\n",
      "\n"
     ]
    }
   ],
   "source": [
    "df.printSchema()"
   ]
  },
  {
   "cell_type": "code",
   "execution_count": 5,
   "metadata": {},
   "outputs": [
    {
     "name": "stdout",
     "output_type": "stream",
     "text": [
      "Total Number of records: 286500\n"
     ]
    }
   ],
   "source": [
    "print(\"Total Number of records:\", df.count())"
   ]
  },
  {
   "cell_type": "code",
   "execution_count": 6,
   "metadata": {},
   "outputs": [
    {
     "data": {
      "text/html": [
       "<div>\n",
       "<style>\n",
       "    .dataframe thead tr:only-child th {\n",
       "        text-align: right;\n",
       "    }\n",
       "\n",
       "    .dataframe thead th {\n",
       "        text-align: left;\n",
       "    }\n",
       "\n",
       "    .dataframe tbody tr th {\n",
       "        vertical-align: top;\n",
       "    }\n",
       "</style>\n",
       "<table border=\"1\" class=\"dataframe\">\n",
       "  <thead>\n",
       "    <tr style=\"text-align: right;\">\n",
       "      <th></th>\n",
       "      <th>0</th>\n",
       "      <th>1</th>\n",
       "      <th>2</th>\n",
       "      <th>3</th>\n",
       "      <th>4</th>\n",
       "    </tr>\n",
       "  </thead>\n",
       "  <tbody>\n",
       "    <tr>\n",
       "      <th>summary</th>\n",
       "      <td>count</td>\n",
       "      <td>mean</td>\n",
       "      <td>stddev</td>\n",
       "      <td>min</td>\n",
       "      <td>max</td>\n",
       "    </tr>\n",
       "    <tr>\n",
       "      <th>artist</th>\n",
       "      <td>228108</td>\n",
       "      <td>551.0852017937219</td>\n",
       "      <td>1217.7693079161374</td>\n",
       "      <td>!!!</td>\n",
       "      <td>ÃÂlafur Arnalds</td>\n",
       "    </tr>\n",
       "    <tr>\n",
       "      <th>auth</th>\n",
       "      <td>286500</td>\n",
       "      <td>None</td>\n",
       "      <td>None</td>\n",
       "      <td>Cancelled</td>\n",
       "      <td>Logged Out</td>\n",
       "    </tr>\n",
       "    <tr>\n",
       "      <th>firstName</th>\n",
       "      <td>278154</td>\n",
       "      <td>None</td>\n",
       "      <td>None</td>\n",
       "      <td>Adelaida</td>\n",
       "      <td>Zyonna</td>\n",
       "    </tr>\n",
       "    <tr>\n",
       "      <th>gender</th>\n",
       "      <td>278154</td>\n",
       "      <td>None</td>\n",
       "      <td>None</td>\n",
       "      <td>F</td>\n",
       "      <td>M</td>\n",
       "    </tr>\n",
       "    <tr>\n",
       "      <th>itemInSession</th>\n",
       "      <td>286500</td>\n",
       "      <td>114.41421291448516</td>\n",
       "      <td>129.76726201140994</td>\n",
       "      <td>0</td>\n",
       "      <td>1321</td>\n",
       "    </tr>\n",
       "    <tr>\n",
       "      <th>lastName</th>\n",
       "      <td>278154</td>\n",
       "      <td>None</td>\n",
       "      <td>None</td>\n",
       "      <td>Adams</td>\n",
       "      <td>Wright</td>\n",
       "    </tr>\n",
       "    <tr>\n",
       "      <th>length</th>\n",
       "      <td>228108</td>\n",
       "      <td>249.1171819778458</td>\n",
       "      <td>99.23517921058361</td>\n",
       "      <td>0.78322</td>\n",
       "      <td>3024.66567</td>\n",
       "    </tr>\n",
       "    <tr>\n",
       "      <th>level</th>\n",
       "      <td>286500</td>\n",
       "      <td>None</td>\n",
       "      <td>None</td>\n",
       "      <td>free</td>\n",
       "      <td>paid</td>\n",
       "    </tr>\n",
       "    <tr>\n",
       "      <th>location</th>\n",
       "      <td>278154</td>\n",
       "      <td>None</td>\n",
       "      <td>None</td>\n",
       "      <td>Albany, OR</td>\n",
       "      <td>Winston-Salem, NC</td>\n",
       "    </tr>\n",
       "    <tr>\n",
       "      <th>method</th>\n",
       "      <td>286500</td>\n",
       "      <td>None</td>\n",
       "      <td>None</td>\n",
       "      <td>GET</td>\n",
       "      <td>PUT</td>\n",
       "    </tr>\n",
       "    <tr>\n",
       "      <th>page</th>\n",
       "      <td>286500</td>\n",
       "      <td>None</td>\n",
       "      <td>None</td>\n",
       "      <td>About</td>\n",
       "      <td>Upgrade</td>\n",
       "    </tr>\n",
       "    <tr>\n",
       "      <th>registration</th>\n",
       "      <td>278154</td>\n",
       "      <td>1.5353588340844272E12</td>\n",
       "      <td>3.291321616327586E9</td>\n",
       "      <td>1521380675000</td>\n",
       "      <td>1543247354000</td>\n",
       "    </tr>\n",
       "    <tr>\n",
       "      <th>sessionId</th>\n",
       "      <td>286500</td>\n",
       "      <td>1041.526554973822</td>\n",
       "      <td>726.7762634630741</td>\n",
       "      <td>1</td>\n",
       "      <td>2474</td>\n",
       "    </tr>\n",
       "    <tr>\n",
       "      <th>song</th>\n",
       "      <td>228108</td>\n",
       "      <td>Infinity</td>\n",
       "      <td>NaN</td>\n",
       "      <td>ÃÂg ÃÂtti GrÃÂ¡a ÃÂsku</td>\n",
       "      <td>ÃÂau hafa sloppiÃÂ° undan ÃÂ¾unga myrkursins</td>\n",
       "    </tr>\n",
       "    <tr>\n",
       "      <th>status</th>\n",
       "      <td>286500</td>\n",
       "      <td>210.05459685863875</td>\n",
       "      <td>31.50507848842214</td>\n",
       "      <td>200</td>\n",
       "      <td>404</td>\n",
       "    </tr>\n",
       "    <tr>\n",
       "      <th>ts</th>\n",
       "      <td>286500</td>\n",
       "      <td>1.5409568898104834E12</td>\n",
       "      <td>1.5075439608226302E9</td>\n",
       "      <td>1538352117000</td>\n",
       "      <td>1543799476000</td>\n",
       "    </tr>\n",
       "    <tr>\n",
       "      <th>userAgent</th>\n",
       "      <td>278154</td>\n",
       "      <td>None</td>\n",
       "      <td>None</td>\n",
       "      <td>\"Mozilla/5.0 (Macintosh; Intel Mac OS X 10_10)...</td>\n",
       "      <td>Mozilla/5.0 (compatible; MSIE 9.0; Windows NT ...</td>\n",
       "    </tr>\n",
       "    <tr>\n",
       "      <th>userId</th>\n",
       "      <td>286500</td>\n",
       "      <td>59682.02278593872</td>\n",
       "      <td>109091.9499991047</td>\n",
       "      <td></td>\n",
       "      <td>99</td>\n",
       "    </tr>\n",
       "  </tbody>\n",
       "</table>\n",
       "</div>"
      ],
      "text/plain": [
       "                    0                      1                     2  \\\n",
       "summary         count                   mean                stddev   \n",
       "artist         228108      551.0852017937219    1217.7693079161374   \n",
       "auth           286500                   None                  None   \n",
       "firstName      278154                   None                  None   \n",
       "gender         278154                   None                  None   \n",
       "itemInSession  286500     114.41421291448516    129.76726201140994   \n",
       "lastName       278154                   None                  None   \n",
       "length         228108      249.1171819778458     99.23517921058361   \n",
       "level          286500                   None                  None   \n",
       "location       278154                   None                  None   \n",
       "method         286500                   None                  None   \n",
       "page           286500                   None                  None   \n",
       "registration   278154  1.5353588340844272E12   3.291321616327586E9   \n",
       "sessionId      286500      1041.526554973822     726.7762634630741   \n",
       "song           228108               Infinity                   NaN   \n",
       "status         286500     210.05459685863875     31.50507848842214   \n",
       "ts             286500  1.5409568898104834E12  1.5075439608226302E9   \n",
       "userAgent      278154                   None                  None   \n",
       "userId         286500      59682.02278593872     109091.9499991047   \n",
       "\n",
       "                                                               3  \\\n",
       "summary                                                      min   \n",
       "artist                                                       !!!   \n",
       "auth                                                   Cancelled   \n",
       "firstName                                               Adelaida   \n",
       "gender                                                         F   \n",
       "itemInSession                                                  0   \n",
       "lastName                                                   Adams   \n",
       "length                                                   0.78322   \n",
       "level                                                       free   \n",
       "location                                              Albany, OR   \n",
       "method                                                       GET   \n",
       "page                                                       About   \n",
       "registration                                       1521380675000   \n",
       "sessionId                                                      1   \n",
       "song                              \n",
       "ÃÂg ÃÂtti GrÃÂ¡a ÃÂsku   \n",
       "status                                                       200   \n",
       "ts                                                 1538352117000   \n",
       "userAgent      \"Mozilla/5.0 (Macintosh; Intel Mac OS X 10_10)...   \n",
       "userId                                                             \n",
       "\n",
       "                                                               4  \n",
       "summary                                                      max  \n",
       "artist                                         ÃÂlafur Arnalds  \n",
       "auth                                                  Logged Out  \n",
       "firstName                                                 Zyonna  \n",
       "gender                                                         M  \n",
       "itemInSession                                               1321  \n",
       "lastName                                                  Wright  \n",
       "length                                                3024.66567  \n",
       "level                                                       paid  \n",
       "location                                       Winston-Salem, NC  \n",
       "method                                                       PUT  \n",
       "page                                                     Upgrade  \n",
       "registration                                       1543247354000  \n",
       "sessionId                                                   2474  \n",
       "song            ÃÂau hafa sloppiÃÂ° undan ÃÂ¾unga myrkursins  \n",
       "status                                                       404  \n",
       "ts                                                 1543799476000  \n",
       "userAgent      Mozilla/5.0 (compatible; MSIE 9.0; Windows NT ...  \n",
       "userId                                                        99  "
      ]
     },
     "execution_count": 6,
     "metadata": {},
     "output_type": "execute_result"
    }
   ],
   "source": [
    "df.describe().toPandas().transpose()"
   ]
  },
  {
   "cell_type": "code",
   "execution_count": 7,
   "metadata": {},
   "outputs": [
    {
     "name": "stdout",
     "output_type": "stream",
     "text": [
      "Empty string in userId:-  8346\n"
     ]
    }
   ],
   "source": [
    "print('Empty string in userId:- ',df.filter(df[\"userId\"] == \"\").count())"
   ]
  },
  {
   "cell_type": "code",
   "execution_count": 8,
   "metadata": {},
   "outputs": [
    {
     "data": {
      "text/plain": [
       "278154"
      ]
     },
     "execution_count": 8,
     "metadata": {},
     "output_type": "execute_result"
    }
   ],
   "source": [
    "# Althought it does not look any NA value but droping the NA value for safer side\n",
    "df = df.dropna(how = \"any\", subset = [\"userId\", \"sessionId\"])\n",
    "# removing the empty string \n",
    "df = df.filter(df[\"userId\"] != \"\")\n",
    "#counting the the remaning and it should be 286500 - 8346 = 278154\n",
    "df.count()"
   ]
  },
  {
   "cell_type": "code",
   "execution_count": 9,
   "metadata": {},
   "outputs": [
    {
     "data": {
      "text/plain": [
       "[Row(artist='Martha Tilston', auth='Logged In', firstName='Colin', gender='M', itemInSession=50, lastName='Freeman', length=277.89016, level='paid', location='Bakersfield, CA', method='PUT', page='NextSong', registration=1538173362000, sessionId=29, song='Rockpools', status=200, ts=1538352117000, userAgent='Mozilla/5.0 (Windows NT 6.1; WOW64; rv:31.0) Gecko/20100101 Firefox/31.0', userId='30'),\n",
       " Row(artist='Five Iron Frenzy', auth='Logged In', firstName='Micah', gender='M', itemInSession=79, lastName='Long', length=236.09424, level='free', location='Boston-Cambridge-Newton, MA-NH', method='PUT', page='NextSong', registration=1538331630000, sessionId=8, song='Canada', status=200, ts=1538352180000, userAgent='\"Mozilla/5.0 (Windows NT 6.1; WOW64) AppleWebKit/537.36 (KHTML, like Gecko) Chrome/37.0.2062.103 Safari/537.36\"', userId='9'),\n",
       " Row(artist='Adam Lambert', auth='Logged In', firstName='Colin', gender='M', itemInSession=51, lastName='Freeman', length=282.8273, level='paid', location='Bakersfield, CA', method='PUT', page='NextSong', registration=1538173362000, sessionId=29, song='Time For Miracles', status=200, ts=1538352394000, userAgent='Mozilla/5.0 (Windows NT 6.1; WOW64; rv:31.0) Gecko/20100101 Firefox/31.0', userId='30'),\n",
       " Row(artist='Enigma', auth='Logged In', firstName='Micah', gender='M', itemInSession=80, lastName='Long', length=262.71302, level='free', location='Boston-Cambridge-Newton, MA-NH', method='PUT', page='NextSong', registration=1538331630000, sessionId=8, song='Knocking On Forbidden Doors', status=200, ts=1538352416000, userAgent='\"Mozilla/5.0 (Windows NT 6.1; WOW64) AppleWebKit/537.36 (KHTML, like Gecko) Chrome/37.0.2062.103 Safari/537.36\"', userId='9'),\n",
       " Row(artist='Daft Punk', auth='Logged In', firstName='Colin', gender='M', itemInSession=52, lastName='Freeman', length=223.60771, level='paid', location='Bakersfield, CA', method='PUT', page='NextSong', registration=1538173362000, sessionId=29, song='Harder Better Faster Stronger', status=200, ts=1538352676000, userAgent='Mozilla/5.0 (Windows NT 6.1; WOW64; rv:31.0) Gecko/20100101 Firefox/31.0', userId='30')]"
      ]
     },
     "execution_count": 9,
     "metadata": {},
     "output_type": "execute_result"
    }
   ],
   "source": [
    "# validating intial 5 rows\n",
    "df.take(5)"
   ]
  },
  {
   "cell_type": "code",
   "execution_count": 10,
   "metadata": {},
   "outputs": [
    {
     "name": "stdout",
     "output_type": "stream",
     "text": [
      "+---------+\n",
      "|     auth|\n",
      "+---------+\n",
      "|Cancelled|\n",
      "|Logged In|\n",
      "+---------+\n",
      "\n"
     ]
    }
   ],
   "source": [
    "# Perhaps it is best to remove both 'Logged Out' and 'Guest' values in 'auth' column as we are tring to predict if the users \n",
    "# will churn or not. Both 'Logged Out' and 'Guest' have userIds missing.\n",
    "df = df.filter((df.auth != 'Guest') & (df.auth != 'Logged Out'))\n",
    "df.select('auth').dropDuplicates().show()"
   ]
  },
  {
   "cell_type": "markdown",
   "metadata": {},
   "source": [
    "# Exploratory Data Analysis\n",
    "When you're working with the full dataset, perform EDA by loading a small subset of the data and doing basic manipulations within Spark. In this workspace, you are already provided a small subset of data you can explore.\n",
    "\n",
    "### Define Churn\n",
    "\n",
    "Once you've done some preliminary analysis, create a column `Churn` to use as the label for your model. I suggest using the `Cancellation Confirmation` events to define your churn, which happen for both paid and free users. As a bonus task, you can also look into the `Downgrade` events.\n",
    "\n",
    "### Explore Data\n",
    "Once you've defined churn, perform some exploratory data analysis to observe the behavior for users who stayed vs users who churned. You can start by exploring aggregates on these two groups of users, observing how much of a specific action they experienced per a certain time unit or number of songs played."
   ]
  },
  {
   "cell_type": "code",
   "execution_count": 11,
   "metadata": {},
   "outputs": [],
   "source": [
    "churned_user_ids = df.filter(df.page == 'Cancellation Confirmation')\\\n",
    "                                            .select('userId')\\\n",
    "                                            .dropDuplicates()\\\n",
    "                                            .rdd.flatMap(lambda x : x)\\\n",
    "                                            .collect()"
   ]
  },
  {
   "cell_type": "code",
   "execution_count": 12,
   "metadata": {},
   "outputs": [],
   "source": [
    "df = df.withColumn('churn', when(col(\"userId\").isin(churned_user_ids), 1).otherwise(0))"
   ]
  },
  {
   "cell_type": "code",
   "execution_count": 13,
   "metadata": {},
   "outputs": [
    {
     "data": {
      "text/plain": [
       "[Row(artist='Martha Tilston', auth='Logged In', firstName='Colin', gender='M', itemInSession=50, lastName='Freeman', length=277.89016, level='paid', location='Bakersfield, CA', method='PUT', page='NextSong', registration=1538173362000, sessionId=29, song='Rockpools', status=200, ts=1538352117000, userAgent='Mozilla/5.0 (Windows NT 6.1; WOW64; rv:31.0) Gecko/20100101 Firefox/31.0', userId='30', churn=0),\n",
       " Row(artist='Five Iron Frenzy', auth='Logged In', firstName='Micah', gender='M', itemInSession=79, lastName='Long', length=236.09424, level='free', location='Boston-Cambridge-Newton, MA-NH', method='PUT', page='NextSong', registration=1538331630000, sessionId=8, song='Canada', status=200, ts=1538352180000, userAgent='\"Mozilla/5.0 (Windows NT 6.1; WOW64) AppleWebKit/537.36 (KHTML, like Gecko) Chrome/37.0.2062.103 Safari/537.36\"', userId='9', churn=0)]"
      ]
     },
     "execution_count": 13,
     "metadata": {},
     "output_type": "execute_result"
    }
   ],
   "source": [
    "# validating that above logic worked fine or not\n",
    "df.take(2)"
   ]
  },
  {
   "cell_type": "code",
   "execution_count": 14,
   "metadata": {},
   "outputs": [
    {
     "name": "stdout",
     "output_type": "stream",
     "text": [
      "+---------+-----------------+\n",
      "|     auth|unique_user_count|\n",
      "+---------+-----------------+\n",
      "|Logged In|              225|\n",
      "|Cancelled|               52|\n",
      "+---------+-----------------+\n",
      "\n",
      "The number of users registered: 225 and the number of users left: 52 with a churn ratio of: 0.23\n"
     ]
    }
   ],
   "source": [
    "\n",
    "\n",
    "# Looks like 'Cancelled' in 'auth' column also represents churn. Lets find out churn ratio just for fun.\n",
    "\n",
    "# Dataframe method\n",
    "# df.filter((col('userId').isNotNull()) & (col('userId') != ''))\\\n",
    "#                         .groupby('auth').agg(countDistinct('userId')\\\n",
    "#                         .alias('unique_user_count')).show()\n",
    "\n",
    "df.createOrReplaceTempView('df_table')\n",
    "\n",
    "# SQL method\n",
    "df_auth = spark.sql(\"SELECT auth, COUNT(DISTINCT userId) as unique_user_count\\\n",
    "                     FROM df_table\\\n",
    "                     WHERE userId IS NOT NULL AND userID != ''\\\n",
    "                     GROUP BY auth\\\n",
    "                     ORDER BY unique_user_count DESC\")\n",
    "\n",
    "df_auth.show()\n",
    "\n",
    "n_users_registered = df_auth.filter(col('auth') == 'Logged In')\\\n",
    "                             .select('unique_user_count').first()[0]\n",
    "n_users_left = df_auth.filter(col('auth') == 'Cancelled')\\\n",
    "                             .select('unique_user_count').first()[0]\n",
    "\n",
    "print('The number of users registered: {} and the number of users left: {} with a churn ratio of: {}'\\\n",
    "                             .format(n_users_registered,n_users_left,round((n_users_left/n_users_registered),2)))"
   ]
  },
  {
   "cell_type": "code",
   "execution_count": 15,
   "metadata": {},
   "outputs": [],
   "source": [
    "# Let's find the average number of songs played by churned and unchurned user.\n",
    "df_songs_count = df.filter(col('page')=='NextSong')\\\n",
    "                                .groupby(col('churn'))\\\n",
    "                                .count()\n",
    "\n",
    "df_songs_unique_users = df.filter(col('page')=='NextSong')\\\n",
    "                                .groupby(col('churn'))\\\n",
    "                                .agg(countDistinct(col('userId')))\n",
    "\n",
    "avg_num_songs_played = df_songs_unique_users\\\n",
    "                .join(df_songs_count, df_songs_count.churn == df_songs_unique_users.churn)\\\n",
    "                .drop(df_songs_count.churn)\n",
    "\n",
    "avg_num_songs_played = avg_num_songs_played\\\n",
    "                .withColumn('AvgNumberofSongs', \\\n",
    "                avg_num_songs_played['count']/avg_num_songs_played['count(DISTINCT userId)'])"
   ]
  },
  {
   "cell_type": "code",
   "execution_count": 16,
   "metadata": {},
   "outputs": [
    {
     "data": {
      "image/png": "[encoded data removed]",
      "text/plain": [
       "<matplotlib.figure.Figure at 0x7fec8dc9dc50>"
      ]
     },
     "metadata": {
      "needs_background": "light"
     },
     "output_type": "display_data"
    }
   ],
   "source": [
    "df_plt = avg_num_songs_played.select(['churn', 'AvgNumberofSongs']).toPandas().set_index('churn')\n",
    "df_plt.plot(kind = 'bar', figsize = (7, 5), title = 'Average Number of songs played:churned users vs unchurned users');\n",
    "plt.ylabel('Average Number of Songs Played');"
   ]
  },
  {
   "cell_type": "code",
   "execution_count": 17,
   "metadata": {},
   "outputs": [],
   "source": [
    "# Average number of times each page is vistied: churned vs unchurned users.\n",
    "df_page_churn_count = df.groupby(['churn','page']).agg({'page':'count'})\n",
    "\n",
    "avg_num_page_visit = df_page_churn_count\\\n",
    "                .join(df_songs_unique_users, df_songs_unique_users.churn == df_page_churn_count.churn)\\\n",
    "                .drop(df_songs_unique_users.churn)\n",
    "\n",
    "avg_num_page_visit = avg_num_page_visit\\\n",
    "                .withColumn('AvgNumberofPageVisit', \\\n",
    "                            avg_num_page_visit['count(page)']/avg_num_page_visit['count(DISTINCT userId)'])"
   ]
  },
  {
   "cell_type": "code",
   "execution_count": 18,
   "metadata": {},
   "outputs": [],
   "source": [
    "# I am leaving out \"NextSong\" page as it dominates every other page, moreover NextSong has been shown seperately in the plot\n",
    "# above.\n",
    "avg_num_page_visit = avg_num_page_visit.filter(col('page') != 'NextSong')\n",
    "avg_num_page_visit = avg_num_page_visit.toPandas()"
   ]
  },
  {
   "cell_type": "code",
   "execution_count": 19,
   "metadata": {},
   "outputs": [
    {
     "data": {
      "image/png": "[encoded data removed]",
      "text/plain": [
       "<matplotlib.figure.Figure at 0x7fec8da450f0>"
      ]
     },
     "metadata": {
      "needs_background": "light"
     },
     "output_type": "display_data"
    }
   ],
   "source": [
    "# Plotting average number of times each page is vistied: churned vs unchurned users.\n",
    "fig = plt.figure(figsize=(15, 4))\n",
    "sns.barplot(x=\"page\",y=\"AvgNumberofPageVisit\", hue=\"churn\", data=avg_num_page_visit, hue_order=[1, 0]);\n",
    "plt.xticks(rotation=90, fontsize=14);\n",
    "plt.yticks(fontsize=14)\n",
    "plt.xlabel(\"page\", fontsize=14)\n",
    "plt.ylabel(\"Average number of page visits\", fontsize=14)\n",
    "plt.title(\"Average number of page visits:churned users vs unchurned users\", fontsize=14)\n",
    "plt.xticks(rotation=30, ha='right', fontsize=14)\n",
    "plt.legend(loc='best', fontsize=14);"
   ]
  },
  {
   "cell_type": "code",
   "execution_count": 20,
   "metadata": {},
   "outputs": [
    {
     "data": {
      "image/png": "[encoded data removed]",
      "text/plain": [
       "<matplotlib.figure.Figure at 0x7fec8da825f8>"
      ]
     },
     "metadata": {
      "needs_background": "light"
     },
     "output_type": "display_data"
    }
   ],
   "source": [
    "# number of users churned while being free subsribers vs paid subscribers\n",
    "df_pd = df.filter(col('churn')==1).filter(df['page']==\"Cancellation Confirmation\").groupby(\"level\").count().toPandas()\n",
    "sns.barplot(x=\"level\", y=\"count\", data=df_pd);\n",
    "plt.xlabel(\"level\", fontsize=14);\n",
    "plt.ylabel(\"Number of users churned\", fontsize=14);\n",
    "plt.title(\"Number of users churned while being:free subsribers vs paid subscribers\", fontsize=14);"
   ]
  },
  {
   "cell_type": "code",
   "execution_count": 21,
   "metadata": {},
   "outputs": [
    {
     "data": {
      "image/png": "[encoded data removed]",
      "text/plain": [
       "<matplotlib.figure.Figure at 0x7fec8cecaeb8>"
      ]
     },
     "metadata": {
      "needs_background": "light"
     },
     "output_type": "display_data"
    }
   ],
   "source": [
    "# just wanted to check ration of mail female in churn and no churn user\n",
    "df_gen = df.dropDuplicates([\"userId\", \"gender\"]).groupby([\"churn\", \"gender\"]).count().sort(\"churn\").toPandas()\n",
    "sns.barplot(x='churn', y='count', hue='gender', data=df_gen)\n",
    "plt.title(\"ration of mail female in churn and no churn user\", fontsize=14);"
   ]
  },
  {
   "cell_type": "markdown",
   "metadata": {},
   "source": [
    "# Feature Engineering\n",
    "Once you've familiarized yourself with the data, build out the features you find promising to train your model on. To work with the full dataset, you can follow the following steps.\n",
    "- Write a script to extract the necessary features from the smaller subset of data\n",
    "- Ensure that your script is scalable, using the best practices discussed in Lesson 3\n",
    "- Try your script on the full data set, debugging your script if necessary\n",
    "\n",
    "If you are working in the classroom workspace, you can just extract features based on the small subset of data contained here. Be sure to transfer over this work to the larger dataset when you work on your Spark cluster."
   ]
  },
  {
   "cell_type": "markdown",
   "metadata": {},
   "source": [
    "After analyzing all the column above i have decided to use below fetaure in my model:<br/>\n",
    "1:- Gender<br/>\n",
    "2:- UserAgent<br/>\n",
    "3:- Status<br/>\n",
    "4;- Page<br/>\n",
    "\n",
    "<p>Once the columns were identified, we now have to make sure that they are al in the numeric datatype so that they could be put into the model that we choose. The Gender, UserAgent and page columns had to be converted into numeric values using a combination of String Indexing and One Hot encoding.</p>\n"
   ]
  },
  {
   "cell_type": "code",
   "execution_count": 22,
   "metadata": {},
   "outputs": [],
   "source": [
    "#build pipeline\n",
    "Gender_indexer = StringIndexer(inputCol=\"gender\", outputCol='Gender_Index')\n",
    "User_indexer = StringIndexer(inputCol=\"userAgent\", outputCol='User_Index')\n",
    "Page_indexer = StringIndexer(inputCol=\"page\", outputCol='Page_Index')\n",
    "Gender_encoder = OneHotEncoder(inputCol='Gender_Index', outputCol='Gender_Vec')\n",
    "User_encoder = OneHotEncoder(inputCol='User_Index', outputCol='User_Vec')\n",
    "Page_encoder = OneHotEncoder(inputCol='Page_Index', outputCol='Page_Vec')\n",
    "assembler = VectorAssembler(inputCols=[\"Gender_Vec\", \"User_Vec\", \"Page_Vec\", \"status\"], outputCol=\"features\")\n",
    "indexer = StringIndexer(inputCol=\"churn\", outputCol=\"label\")"
   ]
  },
  {
   "cell_type": "markdown",
   "metadata": {},
   "source": [
    "# Modeling\n",
    "Split the full dataset into train, test, and validation sets. Test out several of the machine learning methods you learned. Evaluate the accuracy of the various models, tuning parameters as necessary. Determine your winning model based on test accuracy and report results on the validation set. Since the churned users are a fairly small subset, I suggest using F1 score as the metric to optimize."
   ]
  },
  {
   "cell_type": "code",
   "execution_count": 23,
   "metadata": {},
   "outputs": [],
   "source": [
    "lr =  LogisticRegression(maxIter=10, regParam=0.0, elasticNetParam=0)\n",
    "pipeline = Pipeline(stages=[Gender_indexer, User_indexer, Page_indexer, Gender_encoder,\n",
    "                            User_encoder, Page_encoder, assembler, indexer, lr])"
   ]
  },
  {
   "cell_type": "code",
   "execution_count": 24,
   "metadata": {},
   "outputs": [],
   "source": [
    "#Train Test Split: As a first step break your data set into 90% \n",
    "#of training data and set aside 10%. Set random seed to 42.\n",
    "rest, validation = df.randomSplit([0.9, 0.1], seed=42)"
   ]
  },
  {
   "cell_type": "code",
   "execution_count": 25,
   "metadata": {},
   "outputs": [],
   "source": [
    "paramGrid = ParamGridBuilder() \\\n",
    "    .addGrid(lr.regParam,[0.0, 0.1, ]) \\\n",
    "    .build()\n",
    "\n",
    "\n",
    "crossval = CrossValidator(estimator=pipeline,\n",
    "                          estimatorParamMaps=paramGrid,\n",
    "                          evaluator=MulticlassClassificationEvaluator(),\n",
    "                          numFolds=3)"
   ]
  },
  {
   "cell_type": "code",
   "execution_count": 26,
   "metadata": {},
   "outputs": [],
   "source": [
    "cvModel_q1 = crossval.fit(rest)"
   ]
  },
  {
   "cell_type": "code",
   "execution_count": 27,
   "metadata": {},
   "outputs": [
    {
     "data": {
      "text/plain": [
       "[0.8517259834722277, 0.8539187024054737]"
      ]
     },
     "execution_count": 27,
     "metadata": {},
     "output_type": "execute_result"
    }
   ],
   "source": [
    "cvModel_q1.avgMetrics"
   ]
  },
  {
   "cell_type": "code",
   "execution_count": null,
   "metadata": {},
   "outputs": [],
   "source": [
    "# instantiating random forests model\n",
    "rf = RandomForestClassifier(labelCol=\"label\",\\\n",
    "                            featuresCol=\"ScaledFeatures\",\\\n",
    "                            featureSubsetStrategy='sqrt')\n",
    "\n",
    "# creating pipeline\n",
    "pipeline_rf = Pipeline(stages=[Gender_indexer, User_indexer, Page_indexer, Gender_encoder,\n",
    "                            User_encoder, Page_encoder, assembler, indexer, lr])\n",
    "\n",
    "# building paramgrid\n",
    "paramGrid = ParamGridBuilder() \\\n",
    "    .addGrid(rf.impurity,['entropy', 'gini']) \\\n",
    "    .addGrid(rf.maxDepth,[2, 4, 6, 8]) \\\n",
    "    .addGrid(rf.numTrees,[10, 25, 50, 100]) \\\n",
    "    .build()\n",
    "\n",
    "crossval_rf = CrossValidator(estimator=pipeline_rf,\\\n",
    "                             estimatorParamMaps=paramGrid,\\\n",
    "                             evaluator=MulticlassClassificationEvaluator(),\\\n",
    "                             numFolds=3)\n",
    "\n",
    "cvModel_rf = crossval_rf.fit(rest)\n",
    "results = cvModel_rf.transform(validation)"
   ]
  },
  {
   "cell_type": "code",
   "execution_count": null,
   "metadata": {},
   "outputs": [],
   "source": [
    "cvModel_rf.avgMetrics"
   ]
  },
  {
   "cell_type": "code",
   "execution_count": null,
   "metadata": {},
   "outputs": [],
   "source": [
    "def model_performance_metrics(model, data, evaluation_metric):\n",
    "    '''\n",
    "    This function receives a ml model, the data that needs to be predicted and the evaluation metric, and\n",
    "    then return the score and confusion matrix for the model.   \n",
    "    \n",
    "    :param model: ml model\n",
    "    :param data: test data\n",
    "    :param evaluation_metric: Parameter to evaluate the model with \n",
    "    :return:  the score and confusion matrix for the model\n",
    "    '''\n",
    "    scorer = MulticlassClassificationEvaluator(metricName = evaluation_metric)\n",
    "    preds = model.transform(data)\n",
    "    \n",
    "    score = scorer.evaluate(preds)\n",
    "    confusion_matrix = (preds.groupby(\"label\").pivot(\"prediction\").count().toPandas())      \n",
    "    \n",
    "    return score, confusion_matrix"
   ]
  },
  {
   "cell_type": "code",
   "execution_count": null,
   "metadata": {},
   "outputs": [],
   "source": [
    "score_lr, confusion_matrix_lr = model_performance_metrics(cvModel_q1, validation, 'f1')\n",
    "print('the score for logistic regression model: {}'.format(score_lr))\n",
    "confusion_matrix_lr"
   ]
  },
  {
   "cell_type": "code",
   "execution_count": null,
   "metadata": {},
   "outputs": [],
   "source": [
    "score_lr, confusion_matrix_lr = model_performance_metrics(cvModel_rf, validation, 'f1')\n",
    "print('the score for logistic regression model: {}'.format(score_lr))\n",
    "confusion_matrix_lr"
   ]
  },
  {
   "cell_type": "markdown",
   "metadata": {},
   "source": [
    "# Final Steps\n",
    "Clean up your code, adding comments and renaming variables to make the code easier to read and maintain. Refer to the Spark Project Overview page and Data Scientist Capstone Project Rubric to make sure you are including all components of the capstone project and meet all expectations. Remember, this includes thorough documentation in a README file in a Github repository, as well as a web app or blog post."
   ]
  },
  {
   "cell_type": "code",
   "execution_count": null,
   "metadata": {},
   "outputs": [],
   "source": []
  }
 ],
 "metadata": {
  "kernelspec": {
   "display_name": "Python 3",
   "language": "python",
   "name": "python3"
  },
  "language_info": {
   "codemirror_mode": {
    "name": "ipython",
    "version": 3
   },
   "file_extension": ".py",
   "mimetype": "text/x-python",
   "name": "python",
   "nbconvert_exporter": "python",
   "pygments_lexer": "ipython3",
   "version": "3.6.3"
  }
 },
 "nbformat": 4,
 "nbformat_minor": 2
}
